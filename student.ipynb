{
 "cells": [
  {
   "cell_type": "markdown",
   "id": "82c9c55b",
   "metadata": {},
   "source": [
    "# Phase 4 Project Submission\n",
    "\n",
    "- Student names: **Benson Amara, Fransiscar Mutie, Rahab Gachie**\n",
    "- Instructor name: **Benson Chacha**\n",
    "- Topic: **Model Interpretability**"
   ]
  },
  {
   "cell_type": "markdown",
   "id": "a5bf1bb5",
   "metadata": {},
   "source": [
    "## Introduction\n"
   ]
  },
  {
   "cell_type": "markdown",
   "id": "d858cbb7",
   "metadata": {},
   "source": [
    "## Business Understanding\n",
    "\n",
    "\n"
   ]
  },
  {
   "cell_type": "markdown",
   "id": "cc20b098",
   "metadata": {},
   "source": [
    "## Data Understanding"
   ]
  },
  {
   "cell_type": "markdown",
   "id": "b18e8dd9",
   "metadata": {},
   "source": [
    "## Data Analysis\n"
   ]
  },
  {
   "cell_type": "markdown",
   "id": "ec112ecb",
   "metadata": {},
   "source": []
  }
 ],
 "metadata": {
  "language_info": {
   "name": "python"
  }
 },
 "nbformat": 4,
 "nbformat_minor": 5
}
