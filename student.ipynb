{
 "cells": [
  {
   "cell_type": "markdown",
   "id": "82c9c55b",
   "metadata": {},
   "source": [
    "# Phase 4 Project Submission\n",
    "\n",
    "- Student names: **Benson Amara, Fransiscar Mutie, Rahab Gachie**\n",
    "- Instructor name: **Benson Chacha**\n",
    "- Topic: **Model Interpretability**"
   ]
  },
  {
   "cell_type": "markdown",
   "id": "a5bf1bb5",
   "metadata": {},
   "source": [
    "## Introduction\n",
    "Motor vehicle crashes remain a significant public safety concern in many cities across the globe. Understanding the underlying causes of traffic accidents is essential for improving road safety, optimizing traffic regulations, and informing policy decisions. With the increasing availability of open data, machine learning offers powerful tools for discovering patterns and predicting outcomes that can lead to actionable insights.\n",
    "\n",
    "This project uses publicly available crash, vehicle, and people datasets from the City of Chicago to develop a predictive model. The goal is to analyze a wide range of factors — including vehicle information, road conditions, and driver characteristics — to identify the primary contributory cause of each accident. By modeling this problem, we aim to support traffic safety stakeholders in better understanding crash dynamics and designing targeted interventions.\n"
   ]
  },
  {
   "cell_type": "markdown",
   "id": "d858cbb7",
   "metadata": {},
   "source": [
    "## Business Understanding\n",
    "Motor vehicle accidents remain a persistent and costly public safety issue in urban centers. Every year, thousands of traffic accidents result in injuries, fatalities, and significant economic losses. Understanding the primary contributory causes of these crashes can help policymakers, urban planners, and safety boards implement targeted interventions to reduce accidents.\n",
    "\n",
    "\n",
    "#### Objectives\n",
    "> Build a model that can predict the primary contributory cause of a car accident, given information about the car, the people in the car, the road conditions etc. \n",
    "\n",
    "#### Key Questions\n",
    "1. What are the most significant factors contributing to vehicle crashes in Chicago?\n",
    "\n"
   ]
  },
  {
   "cell_type": "markdown",
   "id": "cc20b098",
   "metadata": {},
   "source": [
    "## Data Understanding\n",
    "\n",
    "This project uses three datasets published by City of Chicago (https://data.cityofchicago.org/Transportation/Traffic-Crashes-Crashes/85ca-t3if)\n",
    "1. **Traffic Crashes-Crashes Data:** Shows information about each traffic crash on city streets within the City of Chicago \n",
    "2. **Traffic Crashes-Driver/Passenger Data:** Contains information about people involved in a crash and if any injuries were sustained\n",
    "3. **Traffic Crashes- Vehicle Data:** Contains information about vehicles involved in a traffic crash"
   ]
  },
  {
   "cell_type": "markdown",
   "id": "b18e8dd9",
   "metadata": {},
   "source": [
    "## Data Analysis\n",
    "Step-by-Step Plan\r",
    "* Step 1: Data Loading & Cleaning\r\n",
    "•\tLoad only relevant columns: \r\n",
    "•\tHandle missing values\r\n",
    "•\tEncode categorical variab*s\r\n",
    "🔹 Step 2: Feature Engineering\r\n",
    "•\tExtract useful info from date/time (e.g., hour, day of week)\r\n",
    "•\tCreate new features if *ded\r\n",
    "🔹 Step 3: Train-Test Split\r\n",
    "•\tStratify on the target *iable\r\n",
    "🔹 Step 4: Model Building\r\n",
    "•\tTrain and evaluate:\r\n",
    "o\tRandomForestClassifier\r\n",
    "o\tLogisticRegression (with reg*rization)\r\n",
    "🔹 Step 5: Hyperparameter Tuning\r\n",
    "•\tUse GridSearchCV or RandomizedSearchCV for the best n_estimators, m*depth, etc.\r\n",
    "🔹 Step 6: Evaluation\r\n",
    "•\tAccuracy, F1-score\r\n",
    "•\tConfusion Matrix\r\n",
    "•\tFeature Importance (r Random Forest)\r\n",
    "\r\n",
    "\n"
   ]
  },
  {
   "cell_type": "code",
   "execution_count": null,
   "id": "731e5669-baf6-4c4d-a7e2-6cb97c25f12d",
   "metadata": {},
   "outputs": [],
   "source": []
  }
 ],
 "metadata": {
  "kernelspec": {
   "display_name": "Python 3 (ipykernel)",
   "language": "python",
   "name": "python3"
  },
  "language_info": {
   "codemirror_mode": {
    "name": "ipython",
    "version": 3
   },
   "file_extension": ".py",
   "mimetype": "text/x-python",
   "name": "python",
   "nbconvert_exporter": "python",
   "pygments_lexer": "ipython3",
   "version": "3.11.7"
  }
 },
 "nbformat": 4,
 "nbformat_minor": 5
}
